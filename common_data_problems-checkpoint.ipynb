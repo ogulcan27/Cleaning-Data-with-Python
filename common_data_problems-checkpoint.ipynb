{
 "cells": [
  {
   "cell_type": "markdown",
   "id": "c408abf7",
   "metadata": {},
   "source": [
    "Kullanacağımız veri setlerini içe aktaralım."
   ]
  },
  {
   "cell_type": "code",
   "execution_count": 1,
   "id": "e8f5a1c0",
   "metadata": {},
   "outputs": [],
   "source": [
    "import pandas as pd \n",
    "\n",
    "ride_sharing_new = pd.read_csv(\"ride_sharing_new.csv\")"
   ]
  },
  {
   "cell_type": "markdown",
   "id": "5c298440",
   "metadata": {},
   "source": [
    "Kod bloklarından elde edilen çıktıları birbirinden ayırmak için ayrac() isimli bir fonksiyon oluşturalım."
   ]
  },
  {
   "cell_type": "code",
   "execution_count": 2,
   "id": "81e4c6f9",
   "metadata": {},
   "outputs": [],
   "source": [
    "def ayrac():\n",
    "    print(\"\\n*****\\n\")"
   ]
  },
  {
   "cell_type": "markdown",
   "id": "c19d1e37",
   "metadata": {},
   "source": [
    "DataFramelerine bir göz atalım."
   ]
  },
  {
   "cell_type": "code",
   "execution_count": 3,
   "id": "af96f2dc",
   "metadata": {
    "scrolled": true
   },
   "outputs": [
    {
     "name": "stdout",
     "output_type": "stream",
     "text": [
      "   Unnamed: 0    duration  station_A_id  \\\n",
      "0           0  12 minutes            81   \n",
      "1           1  24 minutes             3   \n",
      "2           2   8 minutes            67   \n",
      "\n",
      "                                      station_A_name  station_B_id  \\\n",
      "0                                 Berry St at 4th St           323   \n",
      "1       Powell St BART Station (Market St at 4th St)           118   \n",
      "2  San Francisco Caltrain Station 2  (Townsend St...            23   \n",
      "\n",
      "                    station_B_name  bike_id  user_type  user_birth_year  \\\n",
      "0               Broadway at Kearny     5480          2             1959   \n",
      "1  Eureka Valley Recreation Center     5193          2             1965   \n",
      "2    The Embarcadero at Steuart St     3652          3             1993   \n",
      "\n",
      "  user_gender  ride_id  \n",
      "0        Male     55.0  \n",
      "1        Male      4.0  \n",
      "2        Male     11.0  \n"
     ]
    }
   ],
   "source": [
    "print(ride_sharing_new.head(3))"
   ]
  },
  {
   "cell_type": "markdown",
   "id": "d8b50b77",
   "metadata": {},
   "source": [
    "# COMMON DATA PROBLEMS (Yaygın Veri Problemleri)"
   ]
  },
  {
   "cell_type": "markdown",
   "id": "49d3736e",
   "metadata": {},
   "source": [
    "Bu bölümde aşağıdaki konulara odaklanacağız: \n",
    "\n",
    "+ Convert Data Types (Veri Türlerini Dönüştürme)\n",
    "+ Range Constraints (Aralık Kısıtlamaları)\n",
    "+ Remove Duplicate Data (Yinelenen Verileri Kaldırma)"
   ]
  },
  {
   "cell_type": "markdown",
   "id": "4e0f0905",
   "metadata": {},
   "source": [
    "##  Data Type Constraints (Veri Türü Kısıtlamaları) "
   ]
  },
  {
   "cell_type": "markdown",
   "id": "2aadd1e8",
   "metadata": {},
   "source": [
    "Bu bölümde kullandığımız işlevler ve tutorial linkleri :\n",
    "\n",
    "+ pandas.DataFrame.dtypes = https://pandas.pydata.org/docs/reference/api/pandas.DataFrame.dtypes.html\n",
    "\n",
    "+ pandas.DataFrame.astype = https://pandas.pydata.org/docs/reference/api/pandas.DataFrame.astype.html\n",
    "\n",
    "+ assert = https://www.w3schools.com/python/ref_keyword_assert.asp"
   ]
  },
  {
   "cell_type": "markdown",
   "id": "0c5d3d6d",
   "metadata": {},
   "source": [
    "Verilerimizi analiz etmeye başlamadan önce değişkenlerimizin doğru veri türlerine sahip olduğundan emin olmamız gerekir. Aksi takdirde, analizimizde hatalar ortaya çıkacaktır. \n",
    "\n",
    "Verilerle çalışırken, süreç boyunca karşımıza çıkabilecek çeşitli veri türleri vardır. Metin verileri, tamsayılar, ondalık sayılar, tarihler ve kategorik veriler gibi. Python bu veri türleri için, veri türü nesnelerine sahiptir. Bunlar: \n",
    "\n",
    "+ Text data (Metin verileri) = String (str)\n",
    "+ Integers (Tamsayılar) = Integer (int)\n",
    "+ Decimals (Ondalık sayılar) = Float \n",
    "+ Binary (İkili, yes/no, True/False) = Boolean (bool)\n",
    "+ Dates (Tarihler) = Datetime\n",
    "+ Category (Kategorik) = Category"
   ]
  },
  {
   "cell_type": "markdown",
   "id": "803c3021",
   "metadata": {},
   "source": [
    "### < Numeric or Categorical (Numerik mi Kategorik mi?) >"
   ]
  },
  {
   "cell_type": "markdown",
   "id": "274766fc",
   "metadata": {},
   "source": [
    "ride_sharing_new veri setindeki **user_type** sütunu, bir kullanıcının ücretsiz bir yolculuk yapıp yapmadığını gösteren bilgiler içerir. **1 = free riders**, **2 = pay per ride**, **3 = monthly subscribers** anlamına gelir. Aşağıdaki kod bloğunda ride_sharing_new veri setiyle ilgili bilgi edinmek için **xx.info()** işlevini kullanalım ve ardından **user_type** sütununun kategorik değerlerini döndürmek için **xx.describe** işlevini kullanalım. "
   ]
  },
  {
   "cell_type": "code",
   "execution_count": 4,
   "id": "66735592",
   "metadata": {
    "scrolled": true
   },
   "outputs": [
    {
     "name": "stdout",
     "output_type": "stream",
     "text": [
      "<class 'pandas.core.frame.DataFrame'>\n",
      "RangeIndex: 25760 entries, 0 to 25759\n",
      "Data columns (total 11 columns):\n",
      " #   Column           Non-Null Count  Dtype  \n",
      "---  ------           --------------  -----  \n",
      " 0   Unnamed: 0       25760 non-null  int64  \n",
      " 1   duration         25760 non-null  object \n",
      " 2   station_A_id     25760 non-null  int64  \n",
      " 3   station_A_name   25760 non-null  object \n",
      " 4   station_B_id     25760 non-null  int64  \n",
      " 5   station_B_name   25760 non-null  object \n",
      " 6   bike_id          25760 non-null  int64  \n",
      " 7   user_type        25760 non-null  int64  \n",
      " 8   user_birth_year  25760 non-null  int64  \n",
      " 9   user_gender      25760 non-null  object \n",
      " 10  ride_id          76 non-null     float64\n",
      "dtypes: float64(1), int64(6), object(4)\n",
      "memory usage: 2.2+ MB\n",
      "None\n",
      "\n",
      "*****\n",
      "\n",
      "count    25760.000000\n",
      "mean         2.008385\n",
      "std          0.704541\n",
      "min          1.000000\n",
      "25%          2.000000\n",
      "50%          2.000000\n",
      "75%          3.000000\n",
      "max          3.000000\n",
      "Name: user_type, dtype: float64\n"
     ]
    }
   ],
   "source": [
    "print(ride_sharing_new.info())\n",
    "ayrac()\n",
    "print(ride_sharing_new[\"user_type\"].describe())"
   ]
  },
  {
   "cell_type": "markdown",
   "id": "f221ad71",
   "metadata": {},
   "source": [
    "+ **ride_sharing_new[\"user_type\"].describe()** komutunun çıktısında kategorik verilere ait numeric sonuçlar döndürüldü. Yani bu, verilerin kategorik olmasına rağmen numeric olarak saklandığını gösterir."
   ]
  },
  {
   "cell_type": "markdown",
   "id": "76830f67",
   "metadata": {},
   "source": [
    "Yukarıdaki işlemler sonucu **user_type** sütununun kategorik olması gerekiren numerik olduğunu gördük. Bunu değiştirmek için **xx.astype()** işlevini kullanacağız ardından **assert** ile kontrol edeceğiz."
   ]
  },
  {
   "cell_type": "code",
   "execution_count": 5,
   "id": "788e4680",
   "metadata": {},
   "outputs": [
    {
     "name": "stdout",
     "output_type": "stream",
     "text": [
      "count     25760\n",
      "unique        3\n",
      "top           2\n",
      "freq      12972\n",
      "Name: user_type_categoric, dtype: int64\n"
     ]
    }
   ],
   "source": [
    "#1 \n",
    "ride_sharing_new[\"user_type_categoric\"] = ride_sharing_new[\"user_type\"].astype(\"category\")\n",
    "\n",
    "#2\n",
    "assert ride_sharing_new[\"user_type_categoric\"].dtype == \"category\"\n",
    "\n",
    "#3\n",
    "print(ride_sharing_new[\"user_type_categoric\"].describe())"
   ]
  },
  {
   "cell_type": "markdown",
   "id": "19fccaeb",
   "metadata": {},
   "source": [
    "+ 1-) **user_type_categoric** adlı yeni bir sütuna, **user_type** sütununun kategorik halini oluşturduk.\n",
    "\n",
    "+ 2-) **assert** ve **xx.dtype** ile bunu kontrol ettik. Bir yanlışlık olmadığı için **assert**, herhangi bir şey döndürmedi.\n",
    "\n",
    "+ 3-) **user_type_categoric** sütununu özetledik. Çıktıya bakacak olursak, unique kısmında 3 adet kategorik değer olduğunu görebiliriz."
   ]
  },
  {
   "cell_type": "markdown",
   "id": "84b3b47e",
   "metadata": {},
   "source": [
    "###  < String to Integers (Metin Verisini Tamsayıya Dönüştürme) >"
   ]
  },
  {
   "cell_type": "markdown",
   "id": "9c990c7d",
   "metadata": {},
   "source": [
    "ride_sharing_new veri setindeki **duration** sütunundaki string verileri, integer verilere dönüştüreceğiz. Önce duration sütununa bir göz atalım."
   ]
  },
  {
   "cell_type": "code",
   "execution_count": 6,
   "id": "7b6e8215",
   "metadata": {},
   "outputs": [
    {
     "name": "stdout",
     "output_type": "stream",
     "text": [
      "0    12 minutes\n",
      "1    24 minutes\n",
      "2     8 minutes\n",
      "Name: duration, dtype: object\n"
     ]
    }
   ],
   "source": [
    "print(ride_sharing_new[\"duration\"].head(3))"
   ]
  },
  {
   "cell_type": "markdown",
   "id": "d8c3d627",
   "metadata": {},
   "source": [
    "+ minutes metinlerini kaldırmamız gerekecek. "
   ]
  },
  {
   "cell_type": "markdown",
   "id": "3a0c85d7",
   "metadata": {},
   "source": [
    "**duration_trim** adlı yeni bir sütuna, minutes metinleri kaldırılmış haldeki **duration** sütununu atayalım ve ardından string olan **duration_trim** sütununu integer'a dönüştürüp **duration_time** değişkenine atayarak yeni bir sütun oluşturalım. Son olarak da **assert** ile kontrol edip bu 3 sütunu yazdırıp **duration_time** sütununun ortalamasını döndürelim."
   ]
  },
  {
   "cell_type": "code",
   "execution_count": 7,
   "id": "172b898c",
   "metadata": {
    "scrolled": true
   },
   "outputs": [
    {
     "name": "stdout",
     "output_type": "stream",
     "text": [
      "     duration duration_trim  duration_time\n",
      "0  12 minutes           12              12\n",
      "1  24 minutes           24              24\n",
      "2   8 minutes            8               8\n",
      "\n",
      "*****\n",
      "\n",
      "11.389052795031056\n"
     ]
    }
   ],
   "source": [
    "#1\n",
    "ride_sharing_new[\"duration_trim\"] = ride_sharing_new[\"duration\"].str.strip(\"minutes\")\n",
    "\n",
    "#2\n",
    "ride_sharing_new[\"duration_time\"] = ride_sharing_new[\"duration_trim\"].astype(\"int\")\n",
    "\n",
    "#3\n",
    "assert ride_sharing_new[\"duration_time\"].dtype == \"int\"\n",
    "\n",
    "print(ride_sharing_new[[\"duration\", \"duration_trim\", \"duration_time\"]].head(3))\n",
    "ayrac()\n",
    "print(ride_sharing_new[\"duration_time\"].mean())"
   ]
  },
  {
   "cell_type": "markdown",
   "id": "ad60fb7c",
   "metadata": {},
   "source": [
    "+ 1-) minutes metinlerini kaldırdık\n",
    "\n",
    "+ 2-) sütunun veri tipini string'den numeriğe çevirdik\n",
    "\n",
    "+ 3-) assert ile kontrol ettik"
   ]
  },
  {
   "cell_type": "markdown",
   "id": "ed6a3913",
   "metadata": {},
   "source": [
    "## Data Range Constraints (Veri Aralığı Kısıtlamaları)"
   ]
  },
  {
   "cell_type": "markdown",
   "id": "cf07e732",
   "metadata": {},
   "source": [
    "Bu bölümde kullandığımız işlevler ve tutorial linkleri :\n",
    "\n",
    "+ pandas.DataFrame.drop = https://pandas.pydata.org/docs/reference/api/pandas.DataFrame.drop.html"
   ]
  },
  {
   "cell_type": "markdown",
   "id": "5e00dba6",
   "metadata": {},
   "source": [
    "Veri aralığının dışındaki verilerle başa çıkmanın yolları :\n",
    "\n",
    "+ Dropping data (Veriyi bırakmak) \n",
    "  \n",
    "  Ancak dikkat edilmelidir. Bırakılan verilerin boyutuna bağlı olarak, önemli bilgiler kaybediyor olabiliriz. Bu yüzden bıraktığımız veriler, veri kümemizin küçük bir kısmı ise dropping işlemini uygulamalıyız. \n",
    "\n",
    "\n",
    "+ Setting custom minimums and maximums (Sütunlara özel minimum ve maksimum değerler ayarlamak)\n",
    "\n",
    "+ Treat as missing and impute (Verileri missing olarak ayarlamak ve missing value ile başa çıkmak)\n",
    "\n",
    "+ Setting custom value depending on business assumptions (Verilerin çalışma şekline bağlı olarak, belirli bir aralığın ötesine geçen verilerimize özel bir değer atamak)"
   ]
  },
  {
   "cell_type": "markdown",
   "id": "0f3a79a1",
   "metadata": {},
   "source": [
    "### < Setting custom minimums and maximums (Sütunlara özel minimum ve maksimum değerler ayarlamak) >"
   ]
  },
  {
   "cell_type": "markdown",
   "id": "8cb97ab0",
   "metadata": {},
   "source": [
    "Tekrardan ride_sharing_new veri setindeki **user_type** sütununa göz atalım. Bu sütun kategorik olmasına rağmen numerik bir sütundu ve 1, 2, 3 değerlerinden oluşmaktaydı ve **1 = free riders**, **2 = pay per ride**, **3 = monthly subscribers** anlamına gelmekteydi. Biz yukarıdaki örneklerde bu sütunun kategorik bir halini **user_type_categoric** olarak oluşturmuştuk. Burada, bu sütunu kullanacağız. **user_type_categoric** sütunundaki maksimum kullanıcı tipini **2** olarak yeniden ayarlayacağız. İşlemlere başlamadan önce **user_type_categoric** sütununa bir göz atalım."
   ]
  },
  {
   "cell_type": "code",
   "execution_count": 8,
   "id": "b50be50f",
   "metadata": {},
   "outputs": [
    {
     "name": "stdout",
     "output_type": "stream",
     "text": [
      "0    2\n",
      "1    2\n",
      "2    3\n",
      "Name: user_type_categoric, dtype: category\n",
      "Categories (3, int64): [1, 2, 3]\n"
     ]
    }
   ],
   "source": [
    "print(ride_sharing_new[\"user_type_categoric\"].head(3))"
   ]
  },
  {
   "cell_type": "markdown",
   "id": "a5a99dfd",
   "metadata": {},
   "source": [
    "İlk olarak **user_type_categoric** sütununun doğru aralığa sahip olup olmadığını anlamak için bu sütunu **xx.astype()** ile integer'a dönüştürülmüş halini **user_type_categoric_new** adlı yeni bir sütuna tanımlayacağız. Ardından kullanıcı tipinin yeni max sınırını **xx.loc[]** ile 2 olarak ayarlayıp **assert** ile test edeceğiz."
   ]
  },
  {
   "cell_type": "code",
   "execution_count": 9,
   "id": "99a17387",
   "metadata": {
    "scrolled": true
   },
   "outputs": [
    {
     "name": "stdout",
     "output_type": "stream",
     "text": [
      "2    19474\n",
      "1     6286\n",
      "Name: user_type_categoric_new, dtype: int64\n",
      "\n",
      "*****\n",
      "\n",
      "count     25760\n",
      "unique        2\n",
      "top           2\n",
      "freq      19474\n",
      "Name: user_type_categoric_new, dtype: int64\n"
     ]
    }
   ],
   "source": [
    "#1\n",
    "ride_sharing_new[\"user_type_categoric_new\"] = ride_sharing_new[\"user_type_categoric\"].astype(\"int\")\n",
    "\n",
    "#2\n",
    "ride_sharing_new.loc[ride_sharing_new[\"user_type_categoric_new\"] > 2, \"user_type_categoric_new\"] = 2\n",
    "\n",
    "#3\n",
    "print(ride_sharing_new[\"user_type_categoric_new\"].value_counts())\n",
    "ayrac()\n",
    "\n",
    "#4 \n",
    "ride_sharing_new[\"user_type_categoric_new\"] = ride_sharing_new[\"user_type_categoric_new\"].astype(\"category\")\n",
    "\n",
    "#5\n",
    "print(ride_sharing_new[\"user_type_categoric_new\"].describe())"
   ]
  },
  {
   "cell_type": "markdown",
   "id": "79afa370",
   "metadata": {},
   "source": [
    "+ 1-) **user_type_categoric** sütununun integer'a dönüştürülmüş halini **user_type_categoric_new** adlı yeni bir sütuna tanımladık.\n",
    "\n",
    "\n",
    "+ 2-) Kullanıcı tipinin maksimum 2 olmasını sağladık.\n",
    "\n",
    "\n",
    "+ 3-) **user_type_categoric_new** adlı sütundaki benzersiz değerleri ve sayısını döndürdük. Görüleceği üzere sadece 1 ve 2 değerleri benzersiz değer olarak var, 3 yok. \n",
    "\n",
    "\n",
    "+ 4-) **user_type_categoric_new** sütununu integer'dan kategorik hale dönüştürdük.\n",
    "\n",
    "\n",
    "+ 5-) **user_type_categoric_new** sütununun özelliklerini döndürdük."
   ]
  },
  {
   "cell_type": "markdown",
   "id": "7aa2a3df",
   "metadata": {},
   "source": [
    "### < Dropping data (Veriyi bırakmak) > "
   ]
  },
  {
   "cell_type": "markdown",
   "id": "7fe1eb51",
   "metadata": {},
   "source": [
    "Verileri bırakmanın iki yolu var :\n",
    "\n",
    "+ Filtreleme ile bırakmak\n",
    "+ xx.drop() işlevi ile bırakmak"
   ]
  },
  {
   "cell_type": "markdown",
   "id": "629e5c2b",
   "metadata": {},
   "source": [
    "ride_sharing_new veri setindeki **user_birthday_year** sütunu üzerinde çalışalım. Bu sütunda, kullanıcı doğum yılının 1990'dan küçük olanları bırakalım. İşlemlere başlamadan önce bu sütuna bir göz atalım ve 1990'dan küçük olan sütunları döndürelim."
   ]
  },
  {
   "cell_type": "code",
   "execution_count": 10,
   "id": "614bf854",
   "metadata": {
    "scrolled": true
   },
   "outputs": [
    {
     "name": "stdout",
     "output_type": "stream",
     "text": [
      "1988    1741\n",
      "1990    1455\n",
      "1986    1292\n",
      "1987    1292\n",
      "1985    1140\n",
      "        ... \n",
      "1927       3\n",
      "1939       2\n",
      "1901       1\n",
      "1936       1\n",
      "2001       1\n",
      "Name: user_birth_year, Length: 63, dtype: int64\n",
      "\n",
      "*****\n",
      "\n",
      "0    1959\n",
      "1    1965\n",
      "2    1993\n",
      "Name: user_birth_year, dtype: int64\n",
      "\n",
      "*****\n",
      "\n"
     ]
    },
    {
     "data": {
      "text/html": [
       "<div>\n",
       "<style scoped>\n",
       "    .dataframe tbody tr th:only-of-type {\n",
       "        vertical-align: middle;\n",
       "    }\n",
       "\n",
       "    .dataframe tbody tr th {\n",
       "        vertical-align: top;\n",
       "    }\n",
       "\n",
       "    .dataframe thead th {\n",
       "        text-align: right;\n",
       "    }\n",
       "</style>\n",
       "<table border=\"1\" class=\"dataframe\">\n",
       "  <thead>\n",
       "    <tr style=\"text-align: right;\">\n",
       "      <th></th>\n",
       "      <th>Unnamed: 0</th>\n",
       "      <th>duration</th>\n",
       "      <th>station_A_id</th>\n",
       "      <th>station_A_name</th>\n",
       "      <th>station_B_id</th>\n",
       "      <th>station_B_name</th>\n",
       "      <th>bike_id</th>\n",
       "      <th>user_type</th>\n",
       "      <th>user_birth_year</th>\n",
       "      <th>user_gender</th>\n",
       "      <th>ride_id</th>\n",
       "      <th>user_type_categoric</th>\n",
       "      <th>duration_trim</th>\n",
       "      <th>duration_time</th>\n",
       "      <th>user_type_categoric_new</th>\n",
       "    </tr>\n",
       "  </thead>\n",
       "  <tbody>\n",
       "    <tr>\n",
       "      <th>0</th>\n",
       "      <td>0</td>\n",
       "      <td>12 minutes</td>\n",
       "      <td>81</td>\n",
       "      <td>Berry St at 4th St</td>\n",
       "      <td>323</td>\n",
       "      <td>Broadway at Kearny</td>\n",
       "      <td>5480</td>\n",
       "      <td>2</td>\n",
       "      <td>1959</td>\n",
       "      <td>Male</td>\n",
       "      <td>55.0</td>\n",
       "      <td>2</td>\n",
       "      <td>12</td>\n",
       "      <td>12</td>\n",
       "      <td>2</td>\n",
       "    </tr>\n",
       "    <tr>\n",
       "      <th>1</th>\n",
       "      <td>1</td>\n",
       "      <td>24 minutes</td>\n",
       "      <td>3</td>\n",
       "      <td>Powell St BART Station (Market St at 4th St)</td>\n",
       "      <td>118</td>\n",
       "      <td>Eureka Valley Recreation Center</td>\n",
       "      <td>5193</td>\n",
       "      <td>2</td>\n",
       "      <td>1965</td>\n",
       "      <td>Male</td>\n",
       "      <td>4.0</td>\n",
       "      <td>2</td>\n",
       "      <td>24</td>\n",
       "      <td>24</td>\n",
       "      <td>2</td>\n",
       "    </tr>\n",
       "    <tr>\n",
       "      <th>3</th>\n",
       "      <td>3</td>\n",
       "      <td>4 minutes</td>\n",
       "      <td>16</td>\n",
       "      <td>Steuart St at Market St</td>\n",
       "      <td>28</td>\n",
       "      <td>The Embarcadero at Bryant St</td>\n",
       "      <td>1883</td>\n",
       "      <td>1</td>\n",
       "      <td>1979</td>\n",
       "      <td>Male</td>\n",
       "      <td>12.0</td>\n",
       "      <td>1</td>\n",
       "      <td>4</td>\n",
       "      <td>4</td>\n",
       "      <td>1</td>\n",
       "    </tr>\n",
       "  </tbody>\n",
       "</table>\n",
       "</div>"
      ],
      "text/plain": [
       "   Unnamed: 0    duration  station_A_id  \\\n",
       "0           0  12 minutes            81   \n",
       "1           1  24 minutes             3   \n",
       "3           3   4 minutes            16   \n",
       "\n",
       "                                 station_A_name  station_B_id  \\\n",
       "0                            Berry St at 4th St           323   \n",
       "1  Powell St BART Station (Market St at 4th St)           118   \n",
       "3                       Steuart St at Market St            28   \n",
       "\n",
       "                    station_B_name  bike_id  user_type  user_birth_year  \\\n",
       "0               Broadway at Kearny     5480          2             1959   \n",
       "1  Eureka Valley Recreation Center     5193          2             1965   \n",
       "3     The Embarcadero at Bryant St     1883          1             1979   \n",
       "\n",
       "  user_gender  ride_id user_type_categoric duration_trim  duration_time  \\\n",
       "0        Male     55.0                   2           12              12   \n",
       "1        Male      4.0                   2           24              24   \n",
       "3        Male     12.0                   1            4               4   \n",
       "\n",
       "  user_type_categoric_new  \n",
       "0                       2  \n",
       "1                       2  \n",
       "3                       1  "
      ]
     },
     "execution_count": 10,
     "metadata": {},
     "output_type": "execute_result"
    }
   ],
   "source": [
    "print(ride_sharing_new[\"user_birth_year\"].value_counts())\n",
    "ayrac()\n",
    "print(ride_sharing_new[\"user_birth_year\"].head(3))\n",
    "ayrac()\n",
    "ride_sharing_new[ride_sharing_new[\"user_birth_year\"] < 1990].head(3)"
   ]
  },
  {
   "cell_type": "markdown",
   "id": "aaefd3e0",
   "metadata": {},
   "source": [
    "**xx.drop()** işlevi ile 1990'dan küçük olan verileri bırakalım. "
   ]
  },
  {
   "cell_type": "code",
   "execution_count": 11,
   "id": "15673f65",
   "metadata": {},
   "outputs": [
    {
     "name": "stdout",
     "output_type": "stream",
     "text": [
      "2        1993\n",
      "4        1994\n",
      "7        1991\n",
      "9        1994\n",
      "11       1990\n",
      "         ... \n",
      "25755    2000\n",
      "25756    1998\n",
      "25757    1995\n",
      "25758    1995\n",
      "25759    1990\n",
      "Name: user_birth_year, Length: 7339, dtype: int64\n"
     ]
    }
   ],
   "source": [
    "ride_sharing_new.drop(ride_sharing_new[ride_sharing_new[\"user_birth_year\"] < 1990].index, inplace = True)\n",
    "print(ride_sharing_new[\"user_birth_year\"])"
   ]
  },
  {
   "cell_type": "markdown",
   "id": "82323f63",
   "metadata": {},
   "source": [
    "+ Yapılan bırakma işleminin bir kopyasını döndürmemek ve direkt olarak sütunu değiştirmiş olmak için **inplace = True** olarak ayarladık. False olsaydı, yapılan işlemin bir kopyası döndürülecekti."
   ]
  },
  {
   "cell_type": "markdown",
   "id": "1168a10d",
   "metadata": {},
   "source": [
    "## Uniqueness Constraints (Benzersizlik Kısıtlamalar)"
   ]
  },
  {
   "cell_type": "markdown",
   "id": "809d4c84",
   "metadata": {},
   "source": [
    "Bu bölümde kullandığımız işlevler ve tutorial linkleri : \n",
    "\n",
    "+ pandas.DataFrame.duplicated() = https://pandas.pydata.org/docs/reference/api/pandas.DataFrame.duplicated.html\n",
    "  \n",
    "  subset = İstenen sütunlardaki tekrar eden değerleri bulmamızı sağlar.\n",
    "\n",
    "  keep = Yinelenen bir değerin ilk oluşumunu **first**('first'), **last**('last'), **all**(False) olarak tutmamızı sağlar. \n",
    "  \n",
    "      first : Yinelenenleri, ilk oluşum dışında True olarak işaretleyin. \n",
    "  \n",
    "      last : Yinelenenleri, son oluşum dışında True olarak işaretleyin. \n",
    "  \n",
    "      false : Tüm kopyaları Doğru olarak işaretleyin.\n",
    "  \n",
    "\n",
    "+ pandas.DataFrame.drop_duplicates() = https://pandas.pydata.org/docs/reference/api/pandas.DataFrame.drop_duplicates.html"
   ]
  },
  {
   "attachments": {
    "Ekran%20G%C3%B6r%C3%BCnt%C3%BCs%C3%BC%20%28117%29.png": {
     "image/png": "[encoded data removed]"
    }
   },
   "cell_type": "markdown",
   "id": "d226f387",
   "metadata": {},
   "source": [
    "Uniqeueness constarint (benzersizlik kısıtmalası), tekrar eden değerlerin (**Duplicate Value**) olduğu anlamına gelmektedir. Farklı satırlarda aynı değerlerin var olmasıdır. Bir veri setinde tekrar eden değerleri, **xx.duplicated()** işlevi ile bulabiliriz. Duplicate Value ile şu şekilde başa çıkabiliriz :\n",
    "\n",
    "+ **xx.drop_duplicates()** işlevi ile tekrar eden değerlerden sadece 1 tanesini tutarız ve geri kalanları atarız. \n",
    "\n",
    "\n",
    "Eğer şöyle bir durum gerçekleşirse : \n",
    "\n",
    "![Ekran%20G%C3%B6r%C3%BCnt%C3%BCs%C3%BC%20%28117%29.png](attachment:Ekran%20G%C3%B6r%C3%BCnt%C3%BCs%C3%BC%20%28117%29.png)\n",
    "\n",
    "Bütün sütunlar aynı ancak weight sütunundaki değerler farklı. Böyle bir durumda bu iki değerin ortalamasını alıp tek bir sütunda birleştirebiliriz. Bunu, **xx.groupby()** ve **xx.agg()** işlevi ile yapabiliriz."
   ]
  },
  {
   "cell_type": "markdown",
   "id": "16b7f27d",
   "metadata": {},
   "source": [
    "ride_sharing_new veri setindeki **ride_id** sütununa bakalım. Bu sütundaki tekrar eden değerleri bulup onları kaldıralım. İşlemlere başlamadan önce **ride_id** sütununa göz atalım."
   ]
  },
  {
   "cell_type": "code",
   "execution_count": 12,
   "id": "e1149007",
   "metadata": {},
   "outputs": [
    {
     "name": "stdout",
     "output_type": "stream",
     "text": [
      "2        11.0\n",
      "4        20.0\n",
      "7        10.0\n",
      "9        43.0\n",
      "11       50.0\n",
      "         ... \n",
      "25755     NaN\n",
      "25756     NaN\n",
      "25757     NaN\n",
      "25758     NaN\n",
      "25759     NaN\n",
      "Name: ride_id, Length: 7339, dtype: float64\n"
     ]
    }
   ],
   "source": [
    "print(ride_sharing_new[\"ride_id\"])"
   ]
  },
  {
   "cell_type": "markdown",
   "id": "e19d3b30",
   "metadata": {},
   "source": [
    "**xx.duplicated()** ile tekrar eden verileri bulalım ve ardından **xx.drop_duplicate()** ile bu verileri kaldıralım."
   ]
  }
 ],
 "metadata": {
  "kernelspec": {
   "display_name": "Python 3 (ipykernel)",
   "language": "python",
   "name": "python3"
  },
  "language_info": {
   "codemirror_mode": {
    "name": "ipython",
    "version": 3
   },
   "file_extension": ".py",
   "mimetype": "text/x-python",
   "name": "python",
   "nbconvert_exporter": "python",
   "pygments_lexer": "ipython3",
   "version": "3.9.13"
  }
 },
 "nbformat": 4,
 "nbformat_minor": 5
}
